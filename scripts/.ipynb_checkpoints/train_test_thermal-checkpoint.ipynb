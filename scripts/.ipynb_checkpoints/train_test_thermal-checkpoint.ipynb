{
 "cells": [
  {
   "cell_type": "code",
   "execution_count": 1,
   "metadata": {},
   "outputs": [],
   "source": [
    "from sklearn.ensemble import RandomForestRegressor\n",
    "import pandas as pd\n",
    "import numpy as np\n",
    "import time\n",
    "from sklearn.metrics import r2_score\n",
    "from sklearn.metrics import mean_squared_error\n",
    "from sklearn.metrics import mean_absolute_error\n",
    "import matplotlib\n",
    "from matplotlib.pyplot import figure\n",
    "import matplotlib.pyplot as plt\n",
    "import random"
   ]
  },
  {
   "cell_type": "code",
   "execution_count": 2,
   "metadata": {},
   "outputs": [
    {
     "name": "stdout",
     "output_type": "stream",
     "text": [
      "250.86923599243164 seconds\n",
      "26.125606536865234 seconds\n",
      "61.280197858810425 seconds\n"
     ]
    }
   ],
   "source": [
    "p_train = 0.01\n",
    "p_test = 0.05\n",
    "\n",
    "###############################\n",
    "# THIS ONLY NEEDS TO RUN ONCE #\n",
    "###############################\n",
    "\n",
    "indexes = random.sample(range(1,68853600),int(68853600*(1-p_train)))\n",
    "\n",
    "#LOADING TRAINING SET\n",
    "start = time.time()\n",
    "\n",
    "#Loading the inputs for the training set\n",
    "train_inputs_thermal = pd.read_csv('..\\\\data2\\\\inputs\\\\inputs_thermal.csv')\n",
    "X = np.array(train_inputs_thermal.loc[:,'G_Dh':].values)\n",
    "area_envelope = np.multiply(np.array(train_inputs_thermal.loc[:,'perimeter'].values),np.array(train_inputs_thermal.loc[:,'height'].values)) + 2*np.array(train_inputs_thermal.loc[:,'area'].values)\n",
    "train_inputs_thermal = None\n",
    "\n",
    "#Loading the outputs or targets for the training set\n",
    "train_outputs_thermal = pd.read_csv('..\\\\data2\\\\energy_demands\\\\thermal_losses.csv')\n",
    "Y = np.array(train_outputs_thermal.loc[:,'Qs-Qi(Wh)'].values)\n",
    "train_outputs_thermal = None\n",
    "\n",
    "end = time.time()\n",
    "print(str(end-start)+' seconds')\n",
    "\n",
    "#SCALING TRAINING SET\n",
    "start = time.time()\n",
    "\n",
    "#Scaling the inputs and outputs (substracting mean and dividing by the standard deviation)\n",
    "X_mean = X.mean(axis=0)\n",
    "X_std = X.std(axis=0)\n",
    "X = np.divide(X - X_mean, X_std)\n",
    "\n",
    "#We use the area of the building enevelope to normalize the thermal losses (since we know that thermal losses are proportional to this area)\n",
    "Y = np.divide(Y, area_envelope)\n",
    "area_envelope = None\n",
    "Y_mean = Y.mean(axis=0)\n",
    "Y_std = Y.std(axis=0)\n",
    "Y = np.divide(Y - Y_mean, Y_std)\n",
    "\n",
    "end = time.time()\n",
    "print(str(end-start)+' seconds')\n",
    "\n",
    "#LOADING THE TEST SET\n",
    "start = time.time()\n",
    "\n",
    "indexes = random.sample(range(1,12299040),int(12299040*(1-p_test)))\n",
    "\n",
    "test_inputs_thermal = pd.read_csv('..\\\\data2\\\\inputs\\\\inputs_thermal_testset.csv')\n",
    "X_test = np.array(test_inputs_thermal.loc[:,'G_Dh':].values)\n",
    "area_envelope_test = np.multiply(np.array(test_inputs_thermal.loc[:,'perimeter'].values),np.array(test_inputs_thermal.loc[:,'height'].values)) + 2*np.array(test_inputs_thermal.loc[:,'area'].values)\n",
    "test_inputs_thermal = None\n",
    "\n",
    "test_outputs_thermal = pd.read_csv('..\\\\data2\\\\energy_demands\\\\thermal_losses_testset.csv')\n",
    "Y_test = np.array(test_outputs_thermal.loc[:,'Qs-Qi(Wh)'].values)\n",
    "test_outputs_thermal = None\n",
    "\n",
    "end = time.time()\n",
    "print(str(end-start)+' seconds')\n",
    "\n",
    "#SCALING TEST SET\n",
    "X_test = np.divide(X_test - X_mean, X_std)"
   ]
  },
  {
   "cell_type": "code",
   "execution_count": null,
   "metadata": {},
   "outputs": [],
   "source": [
    "##################################\n",
    "# THIS IS THE CODE TO BE CHANGED #\n",
    "##################################\n",
    "\n",
    "start = time.time()\n",
    "\n",
    "#TRAINING THE MACHINE LEARNING REGRESSOR\n",
    "regr = RandomForestRegressor(max_depth=8, n_estimators=30)\n",
    "regr.fit(X, Y) \n",
    "\n",
    "end = time.time()\n",
    "train_time = end-start\n",
    "print(str(train_time)+' seconds')"
   ]
  },
  {
   "cell_type": "code",
   "execution_count": null,
   "metadata": {},
   "outputs": [],
   "source": [
    "#We print the importances of the features we used for learning based on the information gain due to each of them (not all the regression algorithms allow this).\n",
    "print(regr.feature_importances_)"
   ]
  },
  {
   "cell_type": "code",
   "execution_count": null,
   "metadata": {},
   "outputs": [],
   "source": [
    "start = time.time()\n",
    "\n",
    "#TESTING THE MACHINE LEARNING REGRESSOR\n",
    "Y_pred = regr.predict(X_test)\n",
    "\n",
    "end = time.time()\n",
    "test_time = end-start\n",
    "\n",
    "#Y_pred is normalized (since the regressor was trained using normalized targets). Now we de-normalize it a de-scale the predictions.\n",
    "Y_pred = np.multiply(np.multiply(Y_pred, Y_std) + Y_mean, area_envelope_test)\n",
    "\n",
    "print(str(test_time)+' seconds')"
   ]
  },
  {
   "cell_type": "code",
   "execution_count": null,
   "metadata": {},
   "outputs": [],
   "source": [
    "#Calculating scores 0.6562254167979638\n",
    "r2 = r2_score(Y_test,Y_pred)\n",
    "mse = mean_squared_error(Y_test,Y_pred)\n",
    "mae = mean_absolute_error(Y_test,Y_pred)"
   ]
  },
  {
   "cell_type": "code",
   "execution_count": null,
   "metadata": {},
   "outputs": [],
   "source": [
    "#Displaying results\n",
    "print('Results for THERMAL LOSSES:')\n",
    "print('R2: '+str(r2))\n",
    "print('mse: '+str(mse))\n",
    "print('mae: '+str(mae))\n",
    "print('train_time: '+str(train_time))\n",
    "print('test_time: '+str(test_time))"
   ]
  },
  {
   "cell_type": "code",
   "execution_count": null,
   "metadata": {},
   "outputs": [],
   "source": [
    "figure(num=None, figsize=(16, 8), dpi=80, facecolor='w', edgecolor='k')\n",
    "matplotlib.rc('xtick', labelsize=22) \n",
    "matplotlib.rc('ytick', labelsize=22)\n",
    "plt.plot(list(range(11000,11400)), Y_test[11000:11400],linewidth=3.0)\n",
    "plt.plot(list(range(11000,11400)), Y_pred[11000:11400],linewidth=3.0)\n",
    "plt.legend(['Simulation','Neural network prediction'], fontsize=20)\n",
    "plt.xlabel('hours', fontsize=25)\n",
    "plt.ylabel('Thermal losses (Wh)', fontsize=25)\n",
    "\n",
    "# plt.savefig('thermal_losses.png', dpi=600)"
   ]
  },
  {
   "cell_type": "code",
   "execution_count": null,
   "metadata": {},
   "outputs": [],
   "source": []
  }
 ],
 "metadata": {
  "kernelspec": {
   "display_name": "Python 3",
   "language": "python",
   "name": "python3"
  },
  "language_info": {
   "codemirror_mode": {
    "name": "ipython",
    "version": 3
   },
   "file_extension": ".py",
   "mimetype": "text/x-python",
   "name": "python",
   "nbconvert_exporter": "python",
   "pygments_lexer": "ipython3",
   "version": "3.7.3"
  }
 },
 "nbformat": 4,
 "nbformat_minor": 2
}
