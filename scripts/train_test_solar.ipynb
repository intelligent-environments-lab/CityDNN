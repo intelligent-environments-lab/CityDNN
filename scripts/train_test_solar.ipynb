{
 "cells": [
  {
   "cell_type": "code",
   "execution_count": 82,
   "metadata": {},
   "outputs": [],
   "source": [
    "from sklearn.ensemble import RandomForestRegressor\n",
    "import pandas as pd\n",
    "import numpy as np\n",
    "import time\n",
    "from sklearn.metrics import r2_score\n",
    "from sklearn.metrics import mean_squared_error\n",
    "from sklearn.metrics import mean_absolute_error\n",
    "import matplotlib\n",
    "from matplotlib.pyplot import figure\n",
    "import matplotlib.pyplot as plt"
   ]
  },
  {
   "cell_type": "code",
   "execution_count": 83,
   "metadata": {},
   "outputs": [
    {
     "name": "stdout",
     "output_type": "stream",
     "text": [
      "138.82990431785583 seconds\n"
     ]
    }
   ],
   "source": [
    "start = time.time()\n",
    "\n",
    "#Loading the inputs for the training set\n",
    "train_inputs_solar = pd.read_csv('..\\\\data2\\\\inputs\\\\inputs_solar.csv')\n",
    "X = np.array(train_inputs_solar.loc[:,'G_Dh':].values)\n",
    "train_inputs_solar = None\n",
    "\n",
    "#Loading the outputs or targets for the training set\n",
    "train_outputs_solar = pd.read_csv('..\\\\data2\\\\energy_demands\\\\solar_gains.csv')\n",
    "Y = np.array(train_outputs_solar.loc[:,'Qi(Wh)'].values)\n",
    "train_outputs_solar = None\n",
    "\n",
    "end = time.time()\n",
    "print(str(end-start)+' seconds')"
   ]
  },
  {
   "cell_type": "code",
   "execution_count": 84,
   "metadata": {},
   "outputs": [
    {
     "name": "stdout",
     "output_type": "stream",
     "text": [
      "16.98551845550537 seconds\n"
     ]
    }
   ],
   "source": [
    "start = time.time()\n",
    "\n",
    "#Scaling the inputs and outputs (substracting mean and dividing by the standard deviation)\n",
    "X_mean = X.mean(axis=0)\n",
    "X_std = X.std(axis=0)\n",
    "X = np.divide(X - X_mean, X_std)\n",
    "\n",
    "Y_mean = Y.mean(axis=0)\n",
    "Y_std = Y.std(axis=0)\n",
    "Y = np.divide(Y - Y_mean, Y_std)\n",
    "\n",
    "end = time.time()\n",
    "print(str(end-start)+' seconds')"
   ]
  },
  {
   "cell_type": "code",
   "execution_count": null,
   "metadata": {},
   "outputs": [],
   "source": [
    "start = time.time()\n",
    "\n",
    "#TRAINING THE MACHINE LEARNING REGRESSOR\n",
    "regr = RandomForestRegressor(max_depth=8, n_estimators=30)\n",
    "regr.fit(X, Y) \n",
    "\n",
    "end = time.time()\n",
    "print(str(end-start)+' seconds')"
   ]
  },
  {
   "cell_type": "code",
   "execution_count": null,
   "metadata": {},
   "outputs": [],
   "source": [
    "#LOADING THE TEST SET\n",
    "start = time.time()\n",
    "\n",
    "test_inputs_solar = pd.read_csv('..\\\\data2\\\\inputs\\\\inputs_solar_testset.csv')\n",
    "X_test = np.array(test_inputs_solar.loc[:,'G_Dh':].values)\n",
    "test_inputs_solar = None\n",
    "\n",
    "test_outputs_solar = pd.read_csv('..\\\\data2\\\\energy_demands\\\\solar_gains_testset.csv')\n",
    "Y_test = np.array(test_outputs_solar.loc[:,'Qi(Wh)'].values)\n",
    "test_outputs_solar = None\n",
    "\n",
    "end = time.time()\n",
    "print(str(end-start)+' seconds')"
   ]
  },
  {
   "cell_type": "code",
   "execution_count": null,
   "metadata": {},
   "outputs": [],
   "source": [
    "print(regr.feature_importances_)"
   ]
  },
  {
   "cell_type": "code",
   "execution_count": null,
   "metadata": {},
   "outputs": [],
   "source": [
    "#Scaling the inputs\n",
    "X_test = np.divide(X_test - X_mean, X_std)"
   ]
  },
  {
   "cell_type": "code",
   "execution_count": null,
   "metadata": {},
   "outputs": [],
   "source": [
    "start = time.time()\n",
    "\n",
    "#TESTING THE MACHINE LEARNING REGRESSOR\n",
    "Y_pred = regr.predict(X_test)\n",
    "Y_pred = np.multiply(Y_pred, Y_std) + Y_mean\n",
    "end = time.time()\n",
    "print(str(end-start)+' seconds')"
   ]
  },
  {
   "cell_type": "code",
   "execution_count": null,
   "metadata": {},
   "outputs": [],
   "source": [
    "#Calculating scores\n",
    "r2_score(Y_test,Y_pred)"
   ]
  },
  {
   "cell_type": "code",
   "execution_count": null,
   "metadata": {},
   "outputs": [],
   "source": [
    "mean_squared_error(Y_test,Y_pred)"
   ]
  },
  {
   "cell_type": "code",
   "execution_count": null,
   "metadata": {},
   "outputs": [],
   "source": [
    "mean_absolute_error(Y_test,Y_pred)"
   ]
  },
  {
   "cell_type": "code",
   "execution_count": null,
   "metadata": {},
   "outputs": [],
   "source": [
    "figure(num=None, figsize=(16, 8), dpi=80, facecolor='w', edgecolor='k')\n",
    "matplotlib.rc('xtick', labelsize=22) \n",
    "matplotlib.rc('ytick', labelsize=22)\n",
    "plt.plot(list(range(11000,11200)), Y_test[11000:11200],linewidth=3.0)\n",
    "plt.plot(list(range(11000,11200)), Y_pred[11000:11200],linewidth=3.0)\n",
    "plt.legend(['Simulation','Neural network prediction'], fontsize=20)\n",
    "plt.xlabel('hours', fontsize=25)\n",
    "plt.ylabel('Solar gains (Wh)', fontsize=25)\n",
    "\n",
    "plt.savefig('solar_gains.png', dpi=600)"
   ]
  },
  {
   "cell_type": "code",
   "execution_count": null,
   "metadata": {},
   "outputs": [],
   "source": []
  }
 ],
 "metadata": {
  "kernelspec": {
   "display_name": "Python 3",
   "language": "python",
   "name": "python3"
  },
  "language_info": {
   "codemirror_mode": {
    "name": "ipython",
    "version": 3
   },
   "file_extension": ".py",
   "mimetype": "text/x-python",
   "name": "python",
   "nbconvert_exporter": "python",
   "pygments_lexer": "ipython3",
   "version": "3.7.3"
  }
 },
 "nbformat": 4,
 "nbformat_minor": 2
}
